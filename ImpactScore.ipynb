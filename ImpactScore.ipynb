{
 "cells": [
  {
   "cell_type": "markdown",
   "metadata": {},
   "source": [
    "# Impact Score"
   ]
  },
  {
   "cell_type": "markdown",
   "metadata": {},
   "source": [
    "This notebook is used to explore the *'impact'* concept our project. We investigate the change in the trend lines before and after a policy has taken place."
   ]
  },
  {
   "cell_type": "code",
   "execution_count": 264,
   "metadata": {},
   "outputs": [],
   "source": [
    "import pandas as pd\n",
    "import numpy as np\n",
    "from scipy import stats, integrate\n",
    "import logging\n",
    "from os import path\n",
    "import c3aidatalake\n",
    "import matplotlib.pyplot as plt\n",
    "from datetime import *\n",
    "\n",
    "# import our tools\n",
    "from islandhamstar import cases, mobility, utils, constants\n",
    "\n",
    "# Display debugging logs\n",
    "import logging\n",
    "logger = logging.getLogger()\n",
    "logger.setLevel(logging.INFO)"
   ]
  },
  {
   "cell_type": "markdown",
   "metadata": {},
   "source": [
    "## Load the list of policies"
   ]
  },
  {
   "cell_type": "code",
   "execution_count": 265,
   "metadata": {},
   "outputs": [
    {
     "data": {
      "text/html": [
       "<div>\n",
       "<style scoped>\n",
       "    .dataframe tbody tr th:only-of-type {\n",
       "        vertical-align: middle;\n",
       "    }\n",
       "\n",
       "    .dataframe tbody tr th {\n",
       "        vertical-align: top;\n",
       "    }\n",
       "\n",
       "    .dataframe thead th {\n",
       "        text-align: right;\n",
       "    }\n",
       "</style>\n",
       "<table border=\"1\" class=\"dataframe\">\n",
       "  <thead>\n",
       "    <tr style=\"text-align: right;\">\n",
       "      <th></th>\n",
       "      <th>startDate</th>\n",
       "      <th>policyType</th>\n",
       "      <th>name</th>\n",
       "      <th>location.id</th>\n",
       "    </tr>\n",
       "  </thead>\n",
       "  <tbody>\n",
       "    <tr>\n",
       "      <th>0</th>\n",
       "      <td>2020-03-16T00:00:00Z</td>\n",
       "      <td>C1</td>\n",
       "      <td>School closing</td>\n",
       "      <td>Austria</td>\n",
       "    </tr>\n",
       "    <tr>\n",
       "      <th>1</th>\n",
       "      <td>2020-03-12T00:00:00Z</td>\n",
       "      <td>C2</td>\n",
       "      <td>Workplace closing</td>\n",
       "      <td>Austria</td>\n",
       "    </tr>\n",
       "    <tr>\n",
       "      <th>2</th>\n",
       "      <td>2020-03-16T00:00:00Z</td>\n",
       "      <td>C3</td>\n",
       "      <td>Cancel public events</td>\n",
       "      <td>Austria</td>\n",
       "    </tr>\n",
       "    <tr>\n",
       "      <th>3</th>\n",
       "      <td>2020-03-16T00:00:00Z</td>\n",
       "      <td>C4</td>\n",
       "      <td>Restrictions on gatherings</td>\n",
       "      <td>Austria</td>\n",
       "    </tr>\n",
       "    <tr>\n",
       "      <th>4</th>\n",
       "      <td>2020-03-13T00:00:00Z</td>\n",
       "      <td>C5</td>\n",
       "      <td>Close public transport</td>\n",
       "      <td>Austria</td>\n",
       "    </tr>\n",
       "    <tr>\n",
       "      <th>...</th>\n",
       "      <td>...</td>\n",
       "      <td>...</td>\n",
       "      <td>...</td>\n",
       "      <td>...</td>\n",
       "    </tr>\n",
       "    <tr>\n",
       "      <th>301</th>\n",
       "      <td>2020-03-17T00:00:00Z</td>\n",
       "      <td>C5</td>\n",
       "      <td>Close public transport</td>\n",
       "      <td>UnitedStates</td>\n",
       "    </tr>\n",
       "    <tr>\n",
       "      <th>302</th>\n",
       "      <td>2020-03-15T00:00:00Z</td>\n",
       "      <td>C6</td>\n",
       "      <td>Stay at home requirements</td>\n",
       "      <td>UnitedStates</td>\n",
       "    </tr>\n",
       "    <tr>\n",
       "      <th>303</th>\n",
       "      <td>2020-03-14T00:00:00Z</td>\n",
       "      <td>C7</td>\n",
       "      <td>Restrictions on internal movement</td>\n",
       "      <td>UnitedStates</td>\n",
       "    </tr>\n",
       "    <tr>\n",
       "      <th>304</th>\n",
       "      <td>2020-03-27T00:00:00Z</td>\n",
       "      <td>E1</td>\n",
       "      <td>Income support</td>\n",
       "      <td>UnitedStates</td>\n",
       "    </tr>\n",
       "    <tr>\n",
       "      <th>305</th>\n",
       "      <td>2020-03-27T00:00:00Z</td>\n",
       "      <td>E2</td>\n",
       "      <td>Debt/contract relief</td>\n",
       "      <td>UnitedStates</td>\n",
       "    </tr>\n",
       "  </tbody>\n",
       "</table>\n",
       "<p>306 rows × 4 columns</p>\n",
       "</div>"
      ],
      "text/plain": [
       "                startDate policyType                                name  \\\n",
       "0    2020-03-16T00:00:00Z         C1                      School closing   \n",
       "1    2020-03-12T00:00:00Z         C2                   Workplace closing   \n",
       "2    2020-03-16T00:00:00Z         C3                Cancel public events   \n",
       "3    2020-03-16T00:00:00Z         C4          Restrictions on gatherings   \n",
       "4    2020-03-13T00:00:00Z         C5              Close public transport   \n",
       "..                    ...        ...                                 ...   \n",
       "301  2020-03-17T00:00:00Z         C5              Close public transport   \n",
       "302  2020-03-15T00:00:00Z         C6           Stay at home requirements   \n",
       "303  2020-03-14T00:00:00Z         C7   Restrictions on internal movement   \n",
       "304  2020-03-27T00:00:00Z         E1                      Income support   \n",
       "305  2020-03-27T00:00:00Z         E2                Debt/contract relief   \n",
       "\n",
       "      location.id  \n",
       "0         Austria  \n",
       "1         Austria  \n",
       "2         Austria  \n",
       "3         Austria  \n",
       "4         Austria  \n",
       "..            ...  \n",
       "301  UnitedStates  \n",
       "302  UnitedStates  \n",
       "303  UnitedStates  \n",
       "304  UnitedStates  \n",
       "305  UnitedStates  \n",
       "\n",
       "[306 rows x 4 columns]"
      ]
     },
     "execution_count": 265,
     "metadata": {},
     "output_type": "execute_result"
    }
   ],
   "source": [
    "policies = pd.read_csv('data/policies.csv')\n",
    "policies"
   ]
  },
  {
   "cell_type": "code",
   "execution_count": 266,
   "metadata": {},
   "outputs": [],
   "source": [
    "# prepare cleaned dataframes\n",
    "location_ids = constants.IH_COUNTRIES\n",
    "\n",
    "cases_data = cases.get_clean_data(location_ids)\n",
    "mobility_data = mobility.get_clean_data(location_ids)\n",
    "stock_data = pd.read_csv('data/stocks.csv', index_col=['Date'], parse_dates=True)"
   ]
  },
  {
   "cell_type": "markdown",
   "metadata": {},
   "source": [
    "## Plotting pre and post Trend Lines"
   ]
  },
  {
   "cell_type": "code",
   "execution_count": 267,
   "metadata": {},
   "outputs": [
    {
     "data": {
      "text/html": [
       "<div>\n",
       "<style scoped>\n",
       "    .dataframe tbody tr th:only-of-type {\n",
       "        vertical-align: middle;\n",
       "    }\n",
       "\n",
       "    .dataframe tbody tr th {\n",
       "        vertical-align: top;\n",
       "    }\n",
       "\n",
       "    .dataframe thead th {\n",
       "        text-align: right;\n",
       "    }\n",
       "</style>\n",
       "<table border=\"1\" class=\"dataframe\">\n",
       "  <thead>\n",
       "    <tr style=\"text-align: right;\">\n",
       "      <th></th>\n",
       "      <th>startDate</th>\n",
       "      <th>policyType</th>\n",
       "      <th>name</th>\n",
       "      <th>location.id</th>\n",
       "    </tr>\n",
       "  </thead>\n",
       "  <tbody>\n",
       "    <tr>\n",
       "      <th>193</th>\n",
       "      <td>2020-03-02T00:00:00Z</td>\n",
       "      <td>C1</td>\n",
       "      <td>School closing</td>\n",
       "      <td>Japan</td>\n",
       "    </tr>\n",
       "    <tr>\n",
       "      <th>194</th>\n",
       "      <td>2020-04-07T00:00:00Z</td>\n",
       "      <td>C2</td>\n",
       "      <td>Workplace closing</td>\n",
       "      <td>Japan</td>\n",
       "    </tr>\n",
       "    <tr>\n",
       "      <th>195</th>\n",
       "      <td>2020-03-20T00:00:00Z</td>\n",
       "      <td>C3</td>\n",
       "      <td>Cancel public events</td>\n",
       "      <td>Japan</td>\n",
       "    </tr>\n",
       "    <tr>\n",
       "      <th>196</th>\n",
       "      <td>2020-04-07T00:00:00Z</td>\n",
       "      <td>C6</td>\n",
       "      <td>Stay at home requirements</td>\n",
       "      <td>Japan</td>\n",
       "    </tr>\n",
       "    <tr>\n",
       "      <th>197</th>\n",
       "      <td>2020-04-17T00:00:00Z</td>\n",
       "      <td>C7</td>\n",
       "      <td>Restrictions on internal movement</td>\n",
       "      <td>Japan</td>\n",
       "    </tr>\n",
       "    <tr>\n",
       "      <th>198</th>\n",
       "      <td>2020-04-16T00:00:00Z</td>\n",
       "      <td>E1</td>\n",
       "      <td>Income support</td>\n",
       "      <td>Japan</td>\n",
       "    </tr>\n",
       "    <tr>\n",
       "      <th>199</th>\n",
       "      <td>2020-03-16T00:00:00Z</td>\n",
       "      <td>E2</td>\n",
       "      <td>Debt/contract relief</td>\n",
       "      <td>Japan</td>\n",
       "    </tr>\n",
       "  </tbody>\n",
       "</table>\n",
       "</div>"
      ],
      "text/plain": [
       "                startDate policyType                                name  \\\n",
       "193  2020-03-02T00:00:00Z         C1                      School closing   \n",
       "194  2020-04-07T00:00:00Z         C2                   Workplace closing   \n",
       "195  2020-03-20T00:00:00Z         C3                Cancel public events   \n",
       "196  2020-04-07T00:00:00Z         C6           Stay at home requirements   \n",
       "197  2020-04-17T00:00:00Z         C7   Restrictions on internal movement   \n",
       "198  2020-04-16T00:00:00Z         E1                      Income support   \n",
       "199  2020-03-16T00:00:00Z         E2                Debt/contract relief   \n",
       "\n",
       "    location.id  \n",
       "193       Japan  \n",
       "194       Japan  \n",
       "195       Japan  \n",
       "196       Japan  \n",
       "197       Japan  \n",
       "198       Japan  \n",
       "199       Japan  "
      ]
     },
     "execution_count": 267,
     "metadata": {},
     "output_type": "execute_result"
    }
   ],
   "source": [
    "# look up a spcific policy date\n",
    "policies[policies['location.id']=='Japan']"
   ]
  },
  {
   "cell_type": "code",
   "execution_count": 269,
   "metadata": {},
   "outputs": [
    {
     "data": {
      "text/plain": [
       "<matplotlib.legend.Legend at 0x7f681c7ce1f0>"
      ]
     },
     "execution_count": 269,
     "metadata": {},
     "output_type": "execute_result"
    },
    {
     "data": {
      "image/png": "[encoded data removed]",
      "text/plain": [
       "<Figure size 720x576 with 1 Axes>"
      ]
     },
     "metadata": {
      "needs_background": "light"
     },
     "output_type": "display_data"
    }
   ],
   "source": [
    "# set parameters\n",
    "policy_date = pd.to_datetime('2020-04-07')\n",
    "data_set = mobility_data['TransitStations']\n",
    "country = 'Japan'\n",
    "pre_wind = 28\n",
    "post_wind = 28\n",
    "plot_startDate = '2020-02-15'\n",
    "plot_endDate = '2020-06-01'\n",
    "\n",
    "# get indicies\n",
    "policy_ind = data_set[country].index.get_loc(policy_date)\n",
    "pre_day = policy_date - timedelta(days = pre_wind)\n",
    "pre_ind = data_set[country].index.get_loc(pre_day)\n",
    "post_day = policy_date + timedelta(days = post_wind)\n",
    "post_ind = data_set[country].index.get_loc(post_day)\n",
    "\n",
    "## perform regressions\n",
    "# pre-window regression\n",
    "pre_y = np.array(data_set[country][pre_ind:(policy_ind+1)].dropna().values, dtype='float')\n",
    "pre_x = np.array(data_set[country][pre_ind:(policy_ind+1)].dropna().index.values, dtype='float')\n",
    "pre_slope, pre_intercept, r_value, p_value, std_err = stats.linregress(pre_x, pre_y)\n",
    "xf = np.linspace(min(pre_x), max(pre_x), 100)\n",
    "pre_xf = xf.copy()\n",
    "pre_xf = pd.to_datetime(pre_xf)\n",
    "def pre_f(x):\n",
    "    return (pre_slope*x)+pre_intercept\n",
    "pre_yf = pre_f(xf)\n",
    "\n",
    "# dashed pre-regression line\n",
    "dashed_xf = np.linspace(min(post_x), max(post_x), 100)\n",
    "dashed_pre_xf = dashed_xf.copy()\n",
    "dashed_pre_xf = pd.to_datetime(dashed_pre_xf)\n",
    "dashed_pre_yf = (pre_slope*dashed_xf)+pre_intercept\n",
    "\n",
    "# post-window regression\n",
    "post_y = np.array(data_set[country][policy_ind:post_ind].dropna().values, dtype='float')\n",
    "post_x = np.array(data_set[country][policy_ind:post_ind].dropna().index.values, dtype='float')\n",
    "post_slope, post_intercept, r_value, p_value, std_err = stats.linregress(post_x, post_y)\n",
    "xf = np.linspace(min(post_x),max(post_x), 100)\n",
    "post_xf = xf.copy()\n",
    "post_xf = pd.to_datetime(post_xf)\n",
    "def post_f(x):\n",
    "    return (post_slope*x)+post_intercept\n",
    "post_yf = post_f(xf)\n",
    "\n",
    "# plot lines\n",
    "start_ind = data_set[country].index.get_loc(plot_startDate)\n",
    "end_ind = data_set[country].index.get_loc(plot_endDate)\n",
    "plt.rcParams[\"figure.figsize\"] = (10,8)\n",
    "plt.plot(data_set[country][start_ind:end_ind])\n",
    "plt.title('C2 Impact on Japanese TransitStations Mobility')\n",
    "plt.axvline(x=policy_date, color='r', linestyle='-', linewidth=0.5)\n",
    "plt.plot(pre_xf, pre_yf)\n",
    "plt.plot(dashed_pre_xf, dashed_pre_yf, color='orange', linestyle='--')\n",
    "plt.plot(post_xf, post_yf)\n",
    "plt.fill_between(post_xf, dashed_pre_yf, post_yf, color='g', alpha = 0.1)\n",
    "plt.legend(loc='upper right', labels=('TransitStations Mobility', 'Policy start date','Pre-policy Trend', 'Predicted Trend without Policy', \n",
    "                                      'Post-policy Trend', 'Impact'))"
   ]
  },
  {
   "cell_type": "code",
   "execution_count": 272,
   "metadata": {},
   "outputs": [
    {
     "name": "stdout",
     "output_type": "stream",
     "text": [
      "Impact Area: -2.9142762561576664e+16\n",
      "Full Area: 1.4978184827586323e+17\n",
      "Impact score: -0.19456805278502434\n"
     ]
    }
   ],
   "source": [
    "# calculate area between pre-policy and post-policy trend lines\n",
    "area = lambda x: post_f(x) - pre_f(x)\n",
    "impact_area = integrate.quad(area, a= min(post_x), b=max(post_x))[0]\n",
    "print('Impact Area:', impact_area)\n",
    "full_area = integrate.quad(pre_f, a= min(post_x), b=max(post_x))[0]\n",
    "print('Full Area:', full_area)\n",
    "\n",
    "# relative impact (to get rid of units)\n",
    "impact_score = impact_area/full_area\n",
    "print('Impact score:', impact_score)"
   ]
  },
  {
   "cell_type": "code",
   "execution_count": null,
   "metadata": {},
   "outputs": [],
   "source": []
  }
 ],
 "metadata": {
  "kernelspec": {
   "display_name": "Python 3",
   "language": "python",
   "name": "python3"
  },
  "language_info": {
   "codemirror_mode": {
    "name": "ipython",
    "version": 3
   },
   "file_extension": ".py",
   "mimetype": "text/x-python",
   "name": "python",
   "nbconvert_exporter": "python",
   "pygments_lexer": "ipython3",
   "version": "3.8.6"
  }
 },
 "nbformat": 4,
 "nbformat_minor": 4
}
